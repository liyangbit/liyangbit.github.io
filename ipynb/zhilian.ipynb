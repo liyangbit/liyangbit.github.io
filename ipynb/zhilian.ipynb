{
 "cells": [
  {
   "cell_type": "markdown",
   "metadata": {
    "toc": "true"
   },
   "source": [
    "# Table of Contents\n",
    " <p><div class=\"lev1 toc-item\"><a href=\"#读取数据\" data-toc-modified-id=\"读取数据-1\"><span class=\"toc-item-num\">1&nbsp;&nbsp;</span>读取数据</a></div><div class=\"lev1 toc-item\"><a href=\"#数据整理\" data-toc-modified-id=\"数据整理-2\"><span class=\"toc-item-num\">2&nbsp;&nbsp;</span>数据整理</a></div><div class=\"lev2 toc-item\"><a href=\"#将str格式的日期变为-datatime\" data-toc-modified-id=\"将str格式的日期变为-datatime-21\"><span class=\"toc-item-num\">2.1&nbsp;&nbsp;</span>将str格式的日期变为 datatime</a></div><div class=\"lev2 toc-item\"><a href=\"#筛选月薪格式为“XXXX-XXXX”的信息\" data-toc-modified-id=\"筛选月薪格式为“XXXX-XXXX”的信息-22\"><span class=\"toc-item-num\">2.2&nbsp;&nbsp;</span>筛选月薪格式为“XXXX-XXXX”的信息</a></div><div class=\"lev2 toc-item\"><a href=\"#分割月薪字段，分别获取月薪的下限值和上限值\" data-toc-modified-id=\"分割月薪字段，分别获取月薪的下限值和上限值-23\"><span class=\"toc-item-num\">2.3&nbsp;&nbsp;</span>分割月薪字段，分别获取月薪的下限值和上限值</a></div><div class=\"lev1 toc-item\"><a href=\"#对全国范围内的职位进行分析\" data-toc-modified-id=\"对全国范围内的职位进行分析-3\"><span class=\"toc-item-num\">3&nbsp;&nbsp;</span>对全国范围内的职位进行分析</a></div><div class=\"lev2 toc-item\"><a href=\"#主要城市的招聘职位数量分布情况\" data-toc-modified-id=\"主要城市的招聘职位数量分布情况-31\"><span class=\"toc-item-num\">3.1&nbsp;&nbsp;</span>主要城市的招聘职位数量分布情况</a></div><div class=\"lev1 toc-item\"><a href=\"#筛选北京和长沙的职位\" data-toc-modified-id=\"筛选北京和长沙的职位-4\"><span class=\"toc-item-num\">4&nbsp;&nbsp;</span>筛选北京和长沙的职位</a></div><div class=\"lev2 toc-item\"><a href=\"#月薪分布情况（全国）\" data-toc-modified-id=\"月薪分布情况（全国）-41\"><span class=\"toc-item-num\">4.1&nbsp;&nbsp;</span>月薪分布情况（全国）</a></div><div class=\"lev2 toc-item\"><a href=\"#相关技能要求\" data-toc-modified-id=\"相关技能要求-42\"><span class=\"toc-item-num\">4.2&nbsp;&nbsp;</span>相关技能要求</a></div><div class=\"lev1 toc-item\"><a href=\"#北京\" data-toc-modified-id=\"北京-5\"><span class=\"toc-item-num\">5&nbsp;&nbsp;</span>北京</a></div><div class=\"lev2 toc-item\"><a href=\"#月薪分布情况\" data-toc-modified-id=\"月薪分布情况-51\"><span class=\"toc-item-num\">5.1&nbsp;&nbsp;</span>月薪分布情况</a></div><div class=\"lev2 toc-item\"><a href=\"#相关技能要求\" data-toc-modified-id=\"相关技能要求-52\"><span class=\"toc-item-num\">5.2&nbsp;&nbsp;</span>相关技能要求</a></div><div class=\"lev1 toc-item\"><a href=\"#长沙\" data-toc-modified-id=\"长沙-6\"><span class=\"toc-item-num\">6&nbsp;&nbsp;</span>长沙</a></div><div class=\"lev2 toc-item\"><a href=\"#相关技能要求\" data-toc-modified-id=\"相关技能要求-61\"><span class=\"toc-item-num\">6.1&nbsp;&nbsp;</span>相关技能要求</a></div>"
   ]
  },
  {
   "cell_type": "code",
   "execution_count": 1,
   "metadata": {
    "collapsed": true
   },
   "outputs": [],
   "source": [
    "import pymongo\n",
    "import pandas as pd\n",
    "import matplotlib.pyplot as plt\n",
    "import numpy as np\n",
    "% matplotlib inline\n",
    "plt.style.use('ggplot')"
   ]
  },
  {
   "cell_type": "code",
   "execution_count": 2,
   "metadata": {
    "collapsed": true
   },
   "outputs": [],
   "source": [
    "# 解决matplotlib显示中文问题\n",
    "plt.rcParams['font.sans-serif'] = ['SimHei']  # 指定默认字体\n",
    "plt.rcParams['axes.unicode_minus'] = False  # 解决保存图像是负号'-'显示为方块的问题"
   ]
  },
  {
   "cell_type": "markdown",
   "metadata": {},
   "source": [
    "# 读取数据"
   ]
  },
  {
   "cell_type": "code",
   "execution_count": 3,
   "metadata": {
    "collapsed": false,
    "scrolled": false
   },
   "outputs": [
    {
     "name": "stdout",
     "output_type": "stream",
     "text": [
      "总行数为：65135行\n"
     ]
    },
    {
     "data": {
      "text/html": [
       "<div>\n",
       "<table border=\"1\" class=\"dataframe\">\n",
       "  <thead>\n",
       "    <tr style=\"text-align: right;\">\n",
       "      <th></th>\n",
       "      <th>zwmc</th>\n",
       "      <th>gsmc</th>\n",
       "      <th>zwyx</th>\n",
       "      <th>gbsj</th>\n",
       "      <th>gzdd</th>\n",
       "      <th>fkl</th>\n",
       "      <th>brief</th>\n",
       "      <th>zw_link</th>\n",
       "      <th>_id</th>\n",
       "      <th>save_date</th>\n",
       "    </tr>\n",
       "  </thead>\n",
       "  <tbody>\n",
       "    <tr>\n",
       "      <th>0</th>\n",
       "      <td>PYTHON程序员</td>\n",
       "      <td>义乌市都朋电子商务商行</td>\n",
       "      <td>6000-10000</td>\n",
       "      <td>15天前</td>\n",
       "      <td>杭州-萧山区</td>\n",
       "      <td>63%</td>\n",
       "      <td>岗位职责  1.负责从前端界面到底层服务器的数据平台的整体设计；     2.负责数据中心...</td>\n",
       "      <td>http://jobs.zhaopin.com/428183986250013.htm</td>\n",
       "      <td>59009cdc42949e35dbe920dc</td>\n",
       "      <td>2017-06-18</td>\n",
       "    </tr>\n",
       "    <tr>\n",
       "      <th>1</th>\n",
       "      <td>Python开发工程师助理/Python开发学徒/Python程序员实习生可学徒</td>\n",
       "      <td>苏州软世通信息技术有限公司</td>\n",
       "      <td>4001-6000</td>\n",
       "      <td>15天前</td>\n",
       "      <td>苏州-姑苏区</td>\n",
       "      <td></td>\n",
       "      <td>岗位职责：   1.负责智能搜索； 2.Python相关的数据处理；   3、大专及以上学...</td>\n",
       "      <td>http://jobs.zhaopin.com/466382035250279.htm</td>\n",
       "      <td>59009cdc42949e35dbe920de</td>\n",
       "      <td>2017-08-05</td>\n",
       "    </tr>\n",
       "  </tbody>\n",
       "</table>\n",
       "</div>"
      ],
      "text/plain": [
       "                                       zwmc           gsmc        zwyx  gbsj  \\\n",
       "0                                 PYTHON程序员    义乌市都朋电子商务商行  6000-10000  15天前   \n",
       "1  Python开发工程师助理/Python开发学徒/Python程序员实习生可学徒  苏州软世通信息技术有限公司   4001-6000  15天前   \n",
       "\n",
       "     gzdd  fkl                                              brief  \\\n",
       "0  杭州-萧山区  63%   岗位职责  1.负责从前端界面到底层服务器的数据平台的整体设计；     2.负责数据中心...   \n",
       "1  苏州-姑苏区        岗位职责：   1.负责智能搜索； 2.Python相关的数据处理；   3、大专及以上学...   \n",
       "\n",
       "                                       zw_link                       _id  \\\n",
       "0  http://jobs.zhaopin.com/428183986250013.htm  59009cdc42949e35dbe920dc   \n",
       "1  http://jobs.zhaopin.com/466382035250279.htm  59009cdc42949e35dbe920de   \n",
       "\n",
       "    save_date  \n",
       "0  2017-06-18  \n",
       "1  2017-08-05  "
      ]
     },
     "execution_count": 3,
     "metadata": {},
     "output_type": "execute_result"
    }
   ],
   "source": [
    "client = pymongo.MongoClient('localhost')\n",
    "db = client['zhilian']\n",
    "keyword = 'python'\n",
    "table = db[keyword]\n",
    "\n",
    "columns = ['zwmc',\n",
    "           'gsmc',\n",
    "           'zwyx',\n",
    "           'gbsj',\n",
    "           'gzdd',\n",
    "           'fkl',\n",
    "           'brief',\n",
    "           'zw_link',\n",
    "           '_id',\n",
    "           'save_date']\n",
    "\n",
    "# url_set =  set([records['zw_link'] for records in table.find()])\n",
    "# print(url_set)\n",
    "\n",
    "df = pd.DataFrame([records for records in table.find()], columns=columns)\n",
    "\n",
    "# columns_update = ['职位名称',\n",
    "#                   '公司名称',\n",
    "#                   '职位月薪',\n",
    "#                   '公布时间',\n",
    "#                   '工作地点',\n",
    "#                   '反馈率',\n",
    "#                   '招聘简介',\n",
    "#                   '网页链接',\n",
    "#                   '_id',\n",
    "#                   '信息保存日期']\n",
    "# df.columns = columns_update\n",
    "print('总行数为：{}行'.format(df.shape[0]))\n",
    "df.head(2)"
   ]
  },
  {
   "cell_type": "markdown",
   "metadata": {},
   "source": [
    "# 数据整理"
   ]
  },
  {
   "cell_type": "markdown",
   "metadata": {},
   "source": [
    "## 将str格式的日期变为 datatime"
   ]
  },
  {
   "cell_type": "code",
   "execution_count": 4,
   "metadata": {
    "collapsed": false
   },
   "outputs": [
    {
     "name": "stdout",
     "output_type": "stream",
     "text": [
      "datetime64[ns]\n"
     ]
    }
   ],
   "source": [
    "df['save_date'] = pd.to_datetime(df['save_date'])\n",
    "print(df['save_date'].dtype)\n",
    "# df['save_date']"
   ]
  },
  {
   "cell_type": "markdown",
   "metadata": {},
   "source": [
    "## 筛选月薪格式为“XXXX-XXXX”的信息"
   ]
  },
  {
   "cell_type": "code",
   "execution_count": 5,
   "metadata": {
    "collapsed": false
   },
   "outputs": [
    {
     "name": "stdout",
     "output_type": "stream",
     "text": [
      "总行数为：60720行\n"
     ]
    }
   ],
   "source": [
    "df_clean = df[['zwmc',\n",
    "           'gsmc',\n",
    "           'zwyx',\n",
    "           'gbsj',\n",
    "           'gzdd',\n",
    "           'fkl',\n",
    "           'brief',\n",
    "           'zw_link',\n",
    "           'save_date']]\n",
    "\n",
    "# 对月薪的数据进行筛选，选取格式为“XXXX-XXXX”的信息，方面后续分析\n",
    "df_clean = df_clean[df_clean['zwyx'].str.contains('\\d+-\\d+', regex=True)]\n",
    "print('总行数为：{}行'.format(df_clean.shape[0]))\n",
    "# df_clean.head()"
   ]
  },
  {
   "cell_type": "markdown",
   "metadata": {},
   "source": [
    "## 分割月薪字段，分别获取月薪的下限值和上限值"
   ]
  },
  {
   "cell_type": "code",
   "execution_count": 6,
   "metadata": {
    "collapsed": false,
    "scrolled": false
   },
   "outputs": [
    {
     "name": "stdout",
     "output_type": "stream",
     "text": [
      "zwmc                 object\n",
      "gsmc                 object\n",
      "zwyx                 object\n",
      "gbsj                 object\n",
      "gzdd                 object\n",
      "fkl                  object\n",
      "brief                object\n",
      "zw_link              object\n",
      "save_date    datetime64[ns]\n",
      "zwyx_min              int64\n",
      "zwyx_max              int64\n",
      "dtype: object\n"
     ]
    },
    {
     "data": {
      "text/html": [
       "<div>\n",
       "<table border=\"1\" class=\"dataframe\">\n",
       "  <thead>\n",
       "    <tr style=\"text-align: right;\">\n",
       "      <th></th>\n",
       "      <th>zwmc</th>\n",
       "      <th>gsmc</th>\n",
       "      <th>zwyx</th>\n",
       "      <th>gbsj</th>\n",
       "      <th>gzdd</th>\n",
       "      <th>fkl</th>\n",
       "      <th>brief</th>\n",
       "      <th>zw_link</th>\n",
       "      <th>save_date</th>\n",
       "      <th>zwyx_min</th>\n",
       "      <th>zwyx_max</th>\n",
       "    </tr>\n",
       "  </thead>\n",
       "  <tbody>\n",
       "    <tr>\n",
       "      <th>0</th>\n",
       "      <td>PYTHON程序员</td>\n",
       "      <td>义乌市都朋电子商务商行</td>\n",
       "      <td>6000-10000</td>\n",
       "      <td>15天前</td>\n",
       "      <td>杭州-萧山区</td>\n",
       "      <td>63%</td>\n",
       "      <td>岗位职责  1.负责从前端界面到底层服务器的数据平台的整体设计；     2.负责数据中心...</td>\n",
       "      <td>http://jobs.zhaopin.com/428183986250013.htm</td>\n",
       "      <td>2017-06-18</td>\n",
       "      <td>6000</td>\n",
       "      <td>10000</td>\n",
       "    </tr>\n",
       "    <tr>\n",
       "      <th>1</th>\n",
       "      <td>Python开发工程师助理/Python开发学徒/Python程序员实习生可学徒</td>\n",
       "      <td>苏州软世通信息技术有限公司</td>\n",
       "      <td>4001-6000</td>\n",
       "      <td>15天前</td>\n",
       "      <td>苏州-姑苏区</td>\n",
       "      <td></td>\n",
       "      <td>岗位职责：   1.负责智能搜索； 2.Python相关的数据处理；   3、大专及以上学...</td>\n",
       "      <td>http://jobs.zhaopin.com/466382035250279.htm</td>\n",
       "      <td>2017-08-05</td>\n",
       "      <td>4001</td>\n",
       "      <td>6000</td>\n",
       "    </tr>\n",
       "  </tbody>\n",
       "</table>\n",
       "</div>"
      ],
      "text/plain": [
       "                                       zwmc           gsmc        zwyx  gbsj  \\\n",
       "0                                 PYTHON程序员    义乌市都朋电子商务商行  6000-10000  15天前   \n",
       "1  Python开发工程师助理/Python开发学徒/Python程序员实习生可学徒  苏州软世通信息技术有限公司   4001-6000  15天前   \n",
       "\n",
       "     gzdd  fkl                                              brief  \\\n",
       "0  杭州-萧山区  63%   岗位职责  1.负责从前端界面到底层服务器的数据平台的整体设计；     2.负责数据中心...   \n",
       "1  苏州-姑苏区        岗位职责：   1.负责智能搜索； 2.Python相关的数据处理；   3、大专及以上学...   \n",
       "\n",
       "                                       zw_link  save_date  zwyx_min  zwyx_max  \n",
       "0  http://jobs.zhaopin.com/428183986250013.htm 2017-06-18      6000     10000  \n",
       "1  http://jobs.zhaopin.com/466382035250279.htm 2017-08-05      4001      6000  "
      ]
     },
     "execution_count": 6,
     "metadata": {},
     "output_type": "execute_result"
    }
   ],
   "source": [
    "# http://stackoverflow.com/questions/14745022/pandas-dataframe-how-do-i-split-a-column-into-two\n",
    "\n",
    "# http://stackoverflow.com/questions/20602947/append-column-to-pandas-dataframe\n",
    "\n",
    "# df_temp.loc[: ,'zwyx_min'],df_temp.loc[: , 'zwyx_max'] = df_temp.loc[: , 'zwyx'].str.split('-',1).str #会有警告\n",
    "s_min, s_max = df_clean.loc[: , 'zwyx'].str.split('-',1).str\n",
    "df_min = pd.DataFrame(s_min)\n",
    "df_min.columns = ['zwyx_min']\n",
    "df_max = pd.DataFrame(s_max)\n",
    "df_max.columns = ['zwyx_max']\n",
    "\n",
    "df_clean_concat = pd.concat([df_clean, df_min, df_max], axis=1)\n",
    "# df_clean['zwyx_min'].astype(int)\n",
    "df_clean_concat['zwyx_min'] = pd.to_numeric(df_clean_concat['zwyx_min'])\n",
    "df_clean_concat['zwyx_max'] = pd.to_numeric(df_clean_concat['zwyx_max'])\n",
    "# print(df_clean['zwyx_min'].dtype)\n",
    "print(df_clean_concat.dtypes)\n",
    "df_clean_concat.head(2)"
   ]
  },
  {
   "cell_type": "markdown",
   "metadata": {},
   "source": [
    "* 将数据信息按职位月薪进行排序"
   ]
  },
  {
   "cell_type": "code",
   "execution_count": 7,
   "metadata": {
    "collapsed": false
   },
   "outputs": [],
   "source": [
    "df_clean_concat.sort_values('zwyx_min',inplace=True)\n",
    "# df_clean_concat.tail()"
   ]
  },
  {
   "cell_type": "markdown",
   "metadata": {},
   "source": [
    "* 判断爬取的数据是否有重复值"
   ]
  },
  {
   "cell_type": "code",
   "execution_count": 8,
   "metadata": {
    "collapsed": false
   },
   "outputs": [
    {
     "name": "stdout",
     "output_type": "stream",
     "text": [
      "Empty DataFrame\n",
      "Columns: [zwmc, gsmc, zwyx, gbsj, gzdd, fkl, brief, zw_link, save_date, zwyx_min, zwyx_max]\n",
      "Index: []\n"
     ]
    }
   ],
   "source": [
    "# 判断爬取的数据是否有重复值\n",
    "print(df_clean_concat[df_clean_concat.duplicated('zw_link')==True])"
   ]
  },
  {
   "cell_type": "code",
   "execution_count": 9,
   "metadata": {
    "collapsed": true
   },
   "outputs": [],
   "source": [
    "# df_clean_concat.to_csv('zhilian_python_update.csv')"
   ]
  },
  {
   "cell_type": "markdown",
   "metadata": {
    "collapsed": false,
    "scrolled": true
   },
   "source": [
    "* 从上述结果可看出，数据是没有重复的。"
   ]
  },
  {
   "cell_type": "markdown",
   "metadata": {
    "collapsed": false
   },
   "source": [
    "# 对全国范围内的职位进行分析"
   ]
  },
  {
   "cell_type": "markdown",
   "metadata": {},
   "source": [
    "## 主要城市的招聘职位数量分布情况"
   ]
  },
  {
   "cell_type": "code",
   "execution_count": 10,
   "metadata": {
    "collapsed": false
   },
   "outputs": [
    {
     "name": "stdout",
     "output_type": "stream",
     "text": [
      "<class 'pandas.core.frame.DataFrame'>\n",
      "      number  percentage   label\n",
      "gzdd                            \n",
      "北京     18240    0.316260  北京 32%\n",
      "上海      8597    0.149062  上海 15%\n",
      "深圳      5181    0.089833   深圳 9%\n",
      "广州      3334    0.057808   广州 6%\n",
      "成都      3168    0.054929   成都 5%\n",
      "杭州      3156    0.054721   杭州 5%\n",
      "南京      2049    0.035527   南京 4%\n",
      "郑州      1543    0.026754   郑州 3%\n",
      "武汉      1373    0.023806   武汉 2%\n",
      "西安      1236    0.021431   西安 2%\n"
     ]
    }
   ],
   "source": [
    "# from IPython.core.display import display, HTML\n",
    "ADDRESS = [ '北京', '上海', '广州', '深圳',\n",
    "           '天津', '武汉', '西安', '成都', '大连',\n",
    "           '长春', '沈阳', '南京', '济南', '青岛',\n",
    "           '杭州', '苏州', '无锡', '宁波', '重庆',\n",
    "           '郑州', '长沙', '福州', '厦门', '哈尔滨',\n",
    "           '石家庄', '合肥', '惠州', '太原', '昆明',\n",
    "           '烟台', '佛山', '南昌', '贵阳', '南宁']\n",
    "df_city = df_clean_concat.copy()\n",
    "\n",
    "# 由于工作地点的写上，比如北京，包含许多地址为北京-朝阳区等\n",
    "# 可以用替换的方式进行整理，这里用pandas的replace()方法\n",
    "for city in ADDRESS:\n",
    "    df_city['gzdd'] = df_city['gzdd'].replace([(city+'.*')],[city],regex=True)\n",
    "\n",
    "# 针对全国主要城市进行分析\n",
    "df_city_main = df_city[df_city['gzdd'].isin(ADDRESS)]\n",
    "\n",
    "df_city_main_count = df_city_main.groupby('gzdd')['zwmc','gsmc'].count()\n",
    "df_city_main_count['gsmc'] = df_city_main_count['gsmc']/(df_city_main_count['gsmc'].sum())\n",
    "df_city_main_count.columns = ['number', 'percentage']\n",
    "\n",
    "# 按职位数量进行排序\n",
    "df_city_main_count.sort_values(by='number', ascending=False, inplace=True)\n",
    "\n",
    "# 添加辅助列，标注城市和百分比，方面在后续绘图时使用\n",
    "df_city_main_count['label']=df_city_main_count.index+ ' '+  ((df_city_main_count['percentage']*100).round()).astype('int').astype('str')+'%'\n",
    "print(type(df_city_main_count))\n",
    "\n",
    "# 职位数量最多的Top10城市的列表\n",
    "print(df_city_main_count.head(10))"
   ]
  },
  {
   "cell_type": "markdown",
   "metadata": {},
   "source": [
    "# 筛选北京和长沙的职位"
   ]
  },
  {
   "cell_type": "code",
   "execution_count": 11,
   "metadata": {
    "collapsed": false
   },
   "outputs": [],
   "source": [
    "address_bj_cs = ['北京', '长沙']\n",
    "df_city_bj_cs = df_city[df_city['gzdd'].isin(address_bj_cs)]\n",
    "# df_city_bj_cs.head()\n",
    "df_city_bj_cs.to_csv('zhilian_'+keyword+'_bj_cs.csv')"
   ]
  },
  {
   "cell_type": "code",
   "execution_count": 12,
   "metadata": {
    "collapsed": false
   },
   "outputs": [
    {
     "data": {
      "image/png": "[encoded data removed]",
      "text/plain": [
       "<matplotlib.figure.Figure at 0xe254780>"
      ]
     },
     "metadata": {},
     "output_type": "display_data"
    }
   ],
   "source": [
    "from  matplotlib import cm\n",
    "\n",
    "label = df_city_main_count['label']\n",
    "sizes = df_city_main_count['number']\n",
    "\n",
    "# 设置绘图区域大小\n",
    "fig, axes = plt.subplots(figsize=(10,6),ncols=2) \n",
    "ax1, ax2 = axes.ravel()\n",
    "\n",
    "colors = cm.PiYG(np.arange(len(sizes))/len(sizes)) # colormaps: Paired, autumn, rainbow, gray,spring,Darks\n",
    "\n",
    "# 由于城市数量太多，饼图中不显示labels和百分比\n",
    "patches, texts = ax1.pie(sizes,labels=None, shadow=False, startangle=0, colors=colors)\n",
    "\n",
    "ax1.axis('equal')  \n",
    "\n",
    "ax1.set_title('职位数量分布', loc='center')\n",
    "\n",
    "# ax2 只显示图例（legend）\n",
    "ax2.axis('off')\n",
    "ax2.legend(patches, label, loc='center left', fontsize=9)\n",
    "\n",
    "plt.savefig('job_distribute.jpg')\n",
    "plt.show()"
   ]
  },
  {
   "cell_type": "markdown",
   "metadata": {},
   "source": [
    "## 月薪分布情况（全国）"
   ]
  },
  {
   "cell_type": "code",
   "execution_count": 13,
   "metadata": {
    "collapsed": false
   },
   "outputs": [
    {
     "data": {
      "image/png": "[encoded data removed]",
      "text/plain": [
       "<matplotlib.figure.Figure at 0xe3ccf60>"
      ]
     },
     "metadata": {},
     "output_type": "display_data"
    }
   ],
   "source": [
    "from matplotlib.ticker import FormatStrFormatter\n",
    "\n",
    "fig, (ax1, ax2) = plt.subplots(figsize=(10,8), nrows=2)\n",
    "\n",
    "x_pos = list(range(df_clean_concat.shape[0]))\n",
    "y1 = df_clean_concat['zwyx_min']\n",
    "\n",
    "ax1.plot(x_pos, y1)\n",
    "ax1.set_title('Trend of min monthly salary in China', size=14)\n",
    "ax1.set_xticklabels('')\n",
    "ax1.set_ylabel('min monthly salary(RMB)')\n",
    "\n",
    "bins = [3000,6000, 9000, 12000, 15000, 18000, 21000, 24000, 100000]\n",
    "counts, bins, patches = ax2.hist(y1, bins, normed=1, histtype='bar', facecolor='g', rwidth=0.8)\n",
    "ax2.set_title('Hist of min monthly salary in China', size=14)\n",
    "ax2.set_yticklabels('')\n",
    "# ax2.set_xlabel('min monthly salary(RMB)')\n",
    "\n",
    "# http://stackoverflow.com/questions/6352740/matplotlib-label-each-bin\n",
    "ax2.set_xticks(bins) #将bins设置为xticks\n",
    "ax2.set_xticklabels(bins, rotation=-90) # 设置为xticklabels的方向\n",
    "\n",
    "# Label the raw counts and the percentages below the x-axis...\n",
    "bin_centers = 0.5 * np.diff(bins) + bins[:-1]\n",
    "for count, x in zip(counts, bin_centers):\n",
    "#     # Label the raw counts\n",
    "#     ax2.annotate(str(count), xy=(x, 0), xycoords=('data', 'axes fraction'),\n",
    "#         xytext=(0, -70), textcoords='offset points', va='top', ha='center', rotation=-90)\n",
    "\n",
    "    # Label the percentages\n",
    "    percent = '%0.0f%%' % (100 * float(count) / counts.sum())\n",
    "    ax2.annotate(percent, xy=(x, 0), xycoords=('data', 'axes fraction'),\n",
    "        xytext=(0, -40), textcoords='offset points', va='top', ha='center', rotation=-90, color='b', size=14)\n",
    "\n",
    "fig.savefig('salary_quanguo_min.jpg')"
   ]
  },
  {
   "cell_type": "markdown",
   "metadata": {
    "collapsed": false
   },
   "source": [
    "**不考虑部分极值后，分析月薪分布情况**"
   ]
  },
  {
   "cell_type": "code",
   "execution_count": 14,
   "metadata": {
    "collapsed": false
   },
   "outputs": [
    {
     "data": {
      "image/png": "[encoded data removed]",
      "text/plain": [
       "<matplotlib.figure.Figure at 0xe458080>"
      ]
     },
     "metadata": {},
     "output_type": "display_data"
    }
   ],
   "source": [
    "df_zwyx_adjust = df_clean_concat[df_clean_concat['zwyx_min']<=20000]\n",
    "\n",
    "fig, (ax1, ax2) = plt.subplots(figsize=(10,8), nrows=2)\n",
    "\n",
    "x_pos = list(range(df_zwyx_adjust.shape[0]))\n",
    "y1 = df_zwyx_adjust['zwyx_min']\n",
    "\n",
    "ax1.plot(x_pos, y1)\n",
    "ax1.set_title('Trend of min monthly salary in China (adjust)', size=14)\n",
    "ax1.set_xticklabels('')\n",
    "ax1.set_ylabel('min monthly salary(RMB)')\n",
    "\n",
    "bins = [3000,6000, 9000, 12000, 15000, 18000, 21000]\n",
    "counts, bins, patches = ax2.hist(y1, bins, normed=1, histtype='bar', facecolor='g', rwidth=0.8)\n",
    "ax2.set_title('Hist of min monthly salary in China (adjust)', size=14)\n",
    "ax2.set_yticklabels('')\n",
    "# ax2.set_xlabel('min monthly salary(RMB)')\n",
    "\n",
    "# http://stackoverflow.com/questions/6352740/matplotlib-label-each-bin\n",
    "ax2.set_xticks(bins) #将bins设置为xticks\n",
    "ax2.set_xticklabels(bins, rotation=-90) # 设置为xticklabels的方向\n",
    "\n",
    "# Label the raw counts and the percentages below the x-axis...\n",
    "bin_centers = 0.5 * np.diff(bins) + bins[:-1]\n",
    "for count, x in zip(counts, bin_centers):\n",
    "#     # Label the raw counts\n",
    "#     ax2.annotate(str(count), xy=(x, 0), xycoords=('data', 'axes fraction'),\n",
    "#         xytext=(0, -70), textcoords='offset points', va='top', ha='center', rotation=-90)\n",
    "\n",
    "    # Label the percentages\n",
    "    percent = '%0.0f%%' % (100 * float(count) / counts.sum())\n",
    "    ax2.annotate(percent, xy=(x, 0), xycoords=('data', 'axes fraction'),\n",
    "        xytext=(0, -40), textcoords='offset points', va='top', ha='center', rotation=-90, color='b', size=14)\n",
    "\n",
    "fig.savefig('salary_quanguo_min_adjust.jpg')\n"
   ]
  },
  {
   "cell_type": "markdown",
   "metadata": {},
   "source": [
    "## 相关技能要求\n"
   ]
  },
  {
   "cell_type": "code",
   "execution_count": 15,
   "metadata": {
    "collapsed": false
   },
   "outputs": [
    {
     "name": "stdout",
     "output_type": "stream",
     "text": [
      "<class 'str'>\n"
     ]
    }
   ],
   "source": [
    "brief_list = list(df_clean_concat['brief'])\n",
    "brief_str = ''.join(brief_list)\n",
    "print(type(brief_str))\n",
    "# print(brief_str)\n",
    "with open('brief_quanguo.txt', 'w', encoding='utf-8') as f:\n",
    "    f.write(brief_str)"
   ]
  },
  {
   "cell_type": "markdown",
   "metadata": {},
   "source": [
    "# 北京"
   ]
  },
  {
   "cell_type": "markdown",
   "metadata": {},
   "source": [
    "## 月薪分布情况"
   ]
  },
  {
   "cell_type": "code",
   "execution_count": 16,
   "metadata": {
    "collapsed": false
   },
   "outputs": [
    {
     "name": "stdout",
     "output_type": "stream",
     "text": [
      "总行数为：18240行\n"
     ]
    }
   ],
   "source": [
    "df_beijing = df_clean_concat[df_clean_concat['gzdd'].str.contains('北京.*', regex=True)]\n",
    "# df_beijing.to_excel('zhilian_kw_python_bj.xlsx')\n",
    "print('总行数为：{}行'.format(df_beijing.shape[0]))\n",
    "# df_beijing.head()"
   ]
  },
  {
   "cell_type": "code",
   "execution_count": 17,
   "metadata": {
    "collapsed": false
   },
   "outputs": [
    {
     "data": {
      "image/png": "[encoded data removed]",
      "text/plain": [
       "<matplotlib.figure.Figure at 0xe2924e0>"
      ]
     },
     "metadata": {},
     "output_type": "display_data"
    }
   ],
   "source": [
    "from matplotlib.ticker import FormatStrFormatter\n",
    "\n",
    "fig, (ax1, ax2) = plt.subplots(figsize=(10,8), nrows=2)\n",
    "\n",
    "x_pos = list(range(df_beijing.shape[0]))\n",
    "y1 = df_beijing['zwyx_min']\n",
    "y2 = df_beijing['zwyx_max']\n",
    "ax1.plot(x_pos, y1)\n",
    "ax1.set_title('Trend of min monthly salary in Beijing', size=14)\n",
    "ax1.set_xticklabels('')\n",
    "ax1.set_ylabel('min monthly salary(RMB)')\n",
    "\n",
    "bins = [3000,6000, 9000, 12000, 15000, 18000, 21000, 24000, 100000]\n",
    "counts, bins, patches = ax2.hist(y1, bins, normed=1, histtype='bar', facecolor='g', rwidth=0.8)\n",
    "ax2.set_title('Hist of min monthly salary in Beijing', size=14)\n",
    "ax2.set_yticklabels('')\n",
    "# ax2.set_xlabel('min monthly salary(RMB)')\n",
    "\n",
    "# http://stackoverflow.com/questions/6352740/matplotlib-label-each-bin\n",
    "ax2.set_xticks(bins) #将bins设置为xticks\n",
    "ax2.set_xticklabels(bins, rotation=-90) # 设置为xticklabels的方向\n",
    "\n",
    "# Label the raw counts and the percentages below the x-axis...\n",
    "bin_centers = 0.5 * np.diff(bins) + bins[:-1]\n",
    "for count, x in zip(counts, bin_centers):\n",
    "#     # Label the raw counts\n",
    "#     ax2.annotate(str(count), xy=(x, 0), xycoords=('data', 'axes fraction'),\n",
    "#         xytext=(0, -70), textcoords='offset points', va='top', ha='center', rotation=-90)\n",
    "\n",
    "    # Label the percentages\n",
    "    percent = '%0.0f%%' % (100 * float(count) / counts.sum())\n",
    "    ax2.annotate(percent, xy=(x, 0), xycoords=('data', 'axes fraction'),\n",
    "        xytext=(0, -40), textcoords='offset points', va='top', ha='center', rotation=-90, color='blue', size=14)\n",
    "\n",
    "fig.savefig('salary_beijing_min.jpg')"
   ]
  },
  {
   "cell_type": "markdown",
   "metadata": {},
   "source": [
    "## 相关技能要求"
   ]
  },
  {
   "cell_type": "code",
   "execution_count": 18,
   "metadata": {
    "collapsed": false
   },
   "outputs": [
    {
     "name": "stdout",
     "output_type": "stream",
     "text": [
      "<class 'str'>\n"
     ]
    }
   ],
   "source": [
    "brief_list_bj = list(df_beijing['brief'])\n",
    "brief_str_bj = ''.join(brief_list_bj)\n",
    "print(type(brief_str_bj))\n",
    "# print(brief_str_bj)\n",
    "# with open('brief_beijing.txt', 'w', encoding='utf-8') as f:\n",
    "#     f.write(brief_str_bj)\n"
   ]
  },
  {
   "cell_type": "markdown",
   "metadata": {},
   "source": [
    "# 长沙\n"
   ]
  },
  {
   "cell_type": "code",
   "execution_count": 19,
   "metadata": {
    "collapsed": false
   },
   "outputs": [
    {
     "name": "stdout",
     "output_type": "stream",
     "text": [
      "总行数为：809行\n"
     ]
    }
   ],
   "source": [
    "df_changsha = df_clean_concat[df_clean_concat['gzdd'].str.contains('长沙.*', regex=True)]\n",
    "# df_changsha = pd.DataFrame(df_changsha, ignore_index=True)\n",
    "# df_changsha.to_excel('zhilian_kw_python_cs.xlsx')\n",
    "print('总行数为：{}行'.format(df_changsha.shape[0]))\n",
    "# df_changsha.tail()\n"
   ]
  },
  {
   "cell_type": "code",
   "execution_count": 20,
   "metadata": {
    "collapsed": false
   },
   "outputs": [
    {
     "data": {
      "image/png": "[encoded data removed]",
      "text/plain": [
       "<matplotlib.figure.Figure at 0xe5649b0>"
      ]
     },
     "metadata": {},
     "output_type": "display_data"
    }
   ],
   "source": [
    "from matplotlib.ticker import FormatStrFormatter\n",
    "\n",
    "fig, (ax1, ax2) = plt.subplots(figsize=(10,8), nrows=2)\n",
    "\n",
    "x_pos = list(range(df_changsha.shape[0]))\n",
    "y1 = df_changsha['zwyx_min']\n",
    "\n",
    "ax1.plot(x_pos, y1)\n",
    "ax1.set_title('Trend of min monthly salary in Changsha', size=14)\n",
    "ax1.set_xticklabels('')\n",
    "ax1.set_ylabel('min monthly salary(RMB)')\n",
    "\n",
    "bins = [3000,6000, 9000, 12000, 15000, 18000, 21000, 24000, 50000]\n",
    "counts, bins, patches = ax2.hist(y1, bins, normed=1, histtype='bar', facecolor='g', rwidth=0.8)\n",
    "ax2.set_title('Hist of min monthly salary in Changsha', size=14)\n",
    "ax2.set_yticklabels('')\n",
    "# ax2.set_xlabel('min monthly salary(RMB)')\n",
    "\n",
    "# http://stackoverflow.com/questions/6352740/matplotlib-label-each-bin\n",
    "ax2.set_xticks(bins) #将bins设置为xticks\n",
    "ax2.set_xticklabels(bins, rotation=-90) # 设置为xticklabels的方向\n",
    "\n",
    "# Label the raw counts and the percentages below the x-axis...\n",
    "bin_centers = 0.5 * np.diff(bins) + bins[:-1]\n",
    "for count, x in zip(counts, bin_centers):\n",
    "#     # Label the raw counts\n",
    "#     ax2.annotate(str(count), xy=(x, 0), xycoords=('data', 'axes fraction'),\n",
    "#         xytext=(0, -70), textcoords='offset points', va='top', ha='center', rotation=-90)\n",
    "\n",
    "    # Label the percentages\n",
    "    percent = '%0.0f%%' % (100 * float(count) / counts.sum())\n",
    "    ax2.annotate(percent, xy=(x, 0), xycoords=('data', 'axes fraction'),\n",
    "        xytext=(0, -40), textcoords='offset points', va='top', ha='center', rotation=-90, color='blue', size=14)\n",
    "\n",
    "fig.savefig('salary_changsha_min.jpg')"
   ]
  },
  {
   "cell_type": "markdown",
   "metadata": {},
   "source": [
    "## 相关技能要求"
   ]
  },
  {
   "cell_type": "code",
   "execution_count": 21,
   "metadata": {
    "collapsed": false
   },
   "outputs": [
    {
     "name": "stdout",
     "output_type": "stream",
     "text": [
      "<class 'str'>\n"
     ]
    }
   ],
   "source": [
    "brief_list_cs = list(df_changsha['brief'])\n",
    "brief_str_cs = ''.join(brief_list_cs)\n",
    "print(type(brief_str_cs))\n",
    "# print(brief_str_cs)\n",
    "# with open('brief_changsha.txt', 'w', encoding='utf-8') as f:\n",
    "#     f.write(brief_str_cs)"
   ]
  },
  {
   "cell_type": "code",
   "execution_count": null,
   "metadata": {
    "collapsed": true
   },
   "outputs": [],
   "source": []
  }
 ],
 "metadata": {
  "anaconda-cloud": {},
  "kernelspec": {
   "display_name": "Python [default]",
   "language": "python",
   "name": "python3"
  },
  "language_info": {
   "codemirror_mode": {
    "name": "ipython",
    "version": 3
   },
   "file_extension": ".py",
   "mimetype": "text/x-python",
   "name": "python",
   "nbconvert_exporter": "python",
   "pygments_lexer": "ipython3",
   "version": "3.5.2"
  },
  "toc": {
   "colors": {
    "hover_highlight": "#DAA520",
    "navigate_num": "#000000",
    "navigate_text": "#333333",
    "running_highlight": "#FF0000",
    "selected_highlight": "#FFD700",
    "sidebar_border": "#EEEEEE",
    "wrapper_background": "#FFFFFF"
   },
   "moveMenuLeft": true,
   "nav_menu": {
    "height": "191px",
    "width": "252px"
   },
   "navigate_menu": true,
   "number_sections": true,
   "sideBar": true,
   "threshold": 4,
   "toc_cell": true,
   "toc_position": {
    "height": "795px",
    "left": "0px",
    "right": "20px",
    "top": "106px",
    "width": "391px"
   },
   "toc_section_display": "block",
   "toc_window_display": true,
   "widenNotebook": false
  }
 },
 "nbformat": 4,
 "nbformat_minor": 2
}
